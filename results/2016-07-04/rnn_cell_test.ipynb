{
 "cells": [
  {
   "cell_type": "code",
   "execution_count": 7,
   "metadata": {
    "collapsed": true
   },
   "outputs": [],
   "source": [
    "import tensorflow as tf\n",
    "import numpy as np\n",
    "import math"
   ]
  },
  {
   "cell_type": "code",
   "execution_count": 8,
   "metadata": {
    "collapsed": true
   },
   "outputs": [],
   "source": [
    "batch_size = 1\n",
    "seq_len = 4\n",
    "output_size = 2\n",
    "hidden_size = 4"
   ]
  },
  {
   "cell_type": "code",
   "execution_count": 38,
   "metadata": {
    "collapsed": false
   },
   "outputs": [],
   "source": [
    "raw_data = np.float32(np.array(list([0,1,1,0]), dtype=float).reshape(1,seq_len))\n",
    "raw_target = np.float32(np.array(list([1, 0]), dtype=float).reshape(1,output_size))"
   ]
  },
  {
   "cell_type": "code",
   "execution_count": 93,
   "metadata": {
    "collapsed": true
   },
   "outputs": [],
   "source": [
    "rnn_cell_args = \"gru\""
   ]
  },
  {
   "cell_type": "code",
   "execution_count": 97,
   "metadata": {
    "collapsed": false
   },
   "outputs": [
    {
     "name": "stdout",
     "output_type": "stream",
     "text": [
      "True\n"
     ]
    }
   ],
   "source": [
    "############## Graph construction ################\n",
    "data = tf.placeholder(tf.float32, [batch_size, seq_len])\n",
    "target = tf.placeholder(tf.float32, [batch_size, output_size])\n",
    "\n",
    "if rnn_cell_args == \"basic\":\n",
    "    rnncell = tf.nn.rnn_cell.BasicRNNCell(hidden_size)\n",
    "elif rnn_cell_args == \"gru\":\n",
    "    rnncell = tf.nn.rnn_cell.GRUCell(hidden_size)\n",
    "elif rnn_cell_args == \"lstm\":\n",
    "    rnncell = tf.nn.rnn_cell.BasicLSTMCell(hidden_size) #-? weird bug\n",
    "else:\n",
    "    \"Please specify rnn_cell_args\"\n",
    "# initialize the state\n",
    "initial_state = state = tf.zeros([batch_size, hidden_size])\n",
    "\n",
    "if rnn_cell_args == \"basic\":\n",
    "    #with tf.variable_scope(\"myrnn1\") as vss:\n",
    "     #   print(vss.reuse)\n",
    "        for i in range(seq_len):\n",
    "            if i > 0: tf.get_variable_scope().reuse_variables()\n",
    "            with tf.name_scope(\"in\") as scope:\n",
    "                weights = tf.Variable(tf.truncated_normal([hidden_size, batch_size], stddev=1.0/math.sqrt(float(hidden_size)), name=\"weights\"))\n",
    "                biases = tf.Variable(tf.truncated_normal([hidden_size], stddev=1.0/math.sqrt(float(hidden_size)), name=\"biases\"))\n",
    "                mapped = weights *  data[:,i]\n",
    "                mapped = tf.reshape(mapped, [1, hidden_size]) # 1 x hidden_size\n",
    "                mapped = mapped + biases\n",
    "                #mapped = tf.Print(mapped, [mapped], message=\"this is mapped: \")\n",
    "            cell_output, state = rnncell(mapped, state)\n",
    "            with tf.name_scope(\"out\") as scope:\n",
    "                weights = tf.Variable(tf.truncated_normal([hidden_size, output_size], stddev=1.0/math.sqrt(float(hidden_size)), name=\"weights\"))\n",
    "                biases = tf.Variable(tf.truncated_normal([output_size], stddev=1.0/math.sqrt(float(hidden_size)), name=\"biases\"))\n",
    "                output = tf.nn.softmax(tf.matmul(cell_output, weights) + biases)  # the size of output should be just [batch_size, 1] right?\n",
    "                #output = tf.reshape(output, [1,2])\n",
    "elif rnn_cell_args == \"lstm\":\n",
    "    #with tf.variable_scope(\"myrnn2\") as vs:\n",
    "     #   print(vs.reuse)\n",
    "        for i in range(seq_len):\n",
    "            if i > 0: tf.get_variable_scope().reuse_variables()\n",
    "            print(i)\n",
    "            #if i > 0: \n",
    "            #    vs.reuse_variables()\n",
    "            \n",
    "            #assert tf.get_variable_scope().reuse == False\n",
    "            with tf.name_scope(\"in\") as scope:\n",
    "                weights = tf.Variable(tf.truncated_normal([hidden_size, batch_size], stddev=1.0/math.sqrt(float(hidden_size)), name=\"weights\"))\n",
    "                biases = tf.Variable(tf.truncated_normal([hidden_size], stddev=1.0/math.sqrt(float(hidden_size)), name=\"biases\"))\n",
    "                mapped = weights *  data[:,i]\n",
    "                mapped = tf.reshape(mapped, [1, hidden_size]) # 1 x hidden_size\n",
    "                mapped = mapped + biases\n",
    "            cell_output, state = rnncell(mapped, 2*state)\n",
    "            with tf.name_scope(\"out\") as scope:\n",
    "                weights = tf.Variable(tf.truncated_normal([hidden_size, output_size], stddev=1.0/math.sqrt(float(hidden_size)), name=\"weights\"))\n",
    "                biases = tf.Variable(tf.truncated_normal([output_size], stddev=1.0/math.sqrt(float(hidden_size)), name=\"biases\"))\n",
    "                output = tf.nn.softmax(tf.matmul(cell_output, weights) + biases)  # the size of output should be just [batch_size, 1] right?\n",
    "                #output = tf.reshape(output, [1,2])\n",
    "else:\n",
    "    with tf.variable_scope(\"foo\") as fff:\n",
    "        print(fff.reuse)\n",
    "#         for i in range(seq_len):\n",
    "#             if i > 0: tf.get_variable_scope().reuse_variables()\n",
    "#             print(i)\n",
    "#             #if i > 0: \n",
    "#             #    vs.reuse_variables()\n",
    "            \n",
    "#             #assert tf.get_variable_scope().reuse == False\n",
    "#             with tf.name_scope(\"in\") as scope:\n",
    "#                 weights = tf.Variable(tf.truncated_normal([hidden_size, batch_size], stddev=1.0/math.sqrt(float(hidden_size)), name=\"weights\"))\n",
    "#                 biases = tf.Variable(tf.truncated_normal([hidden_size], stddev=1.0/math.sqrt(float(hidden_size)), name=\"biases\"))\n",
    "#                 mapped = weights *  data[:,i]\n",
    "#                 mapped = tf.reshape(mapped, [1, hidden_size]) # 1 x hidden_size\n",
    "#                 mapped = mapped + biases\n",
    "#             cell_output, state = rnncell(mapped, 2*state)\n",
    "#             with tf.name_scope(\"out\") as scope:\n",
    "#                 weights = tf.Variable(tf.truncated_normal([hidden_size, output_size], stddev=1.0/math.sqrt(float(hidden_size)), name=\"weights\"))\n",
    "#                 biases = tf.Variable(tf.truncated_normal([output_size], stddev=1.0/math.sqrt(float(hidden_size)), name=\"biases\"))\n",
    "#                 output = tf.nn.softmax(tf.matmul(cell_output, weights) + biases)  # the size of output should be just [batch_size, 1] right?\n",
    "#                 #output = tf.reshape(output, [1,2])"
   ]
  },
  {
   "cell_type": "code",
   "execution_count": 41,
   "metadata": {
    "collapsed": false
   },
   "outputs": [],
   "source": [
    "init_op = tf.initialize_all_variables()\n",
    "sess = tf.InteractiveSession()\n",
    "sess.run(init_op)\n",
    "feed_dict = {data: raw_data,target: raw_target}\n",
    "output_ = sess.run(output, feed_dict)"
   ]
  },
  {
   "cell_type": "code",
   "execution_count": 43,
   "metadata": {
    "collapsed": false
   },
   "outputs": [
    {
     "name": "stdout",
     "output_type": "stream",
     "text": [
      "[[ 0.29073665  0.70926332]]\n"
     ]
    }
   ],
   "source": [
    "print(output_)"
   ]
  },
  {
   "cell_type": "markdown",
   "metadata": {},
   "source": [
    "# To Do:\n",
    "- Check if changing tf.Variable() to tf.get_variable() would solve the vs.reuse == True problem.\n",
    "- (Concurrently, check if they use tf.get_variable() in some rnn/lstm example)\n",
    "- because as we saw in a different notebook, the default should be false (vs.reuse)\n",
    "- We need to investigate what caused this issue in the above case.\n",
    "\n",
    "- tf.get_variable(reuse=None)の場合を試す\n",
    "\n",
    "\n",
    "# Solution:\n",
    "- It was mostly because of ipython notebook; it stores the variable_scope that is defined eariler, which caused the problem. Is there a way to erace the previous scopes?"
   ]
  },
  {
   "cell_type": "code",
   "execution_count": null,
   "metadata": {
    "collapsed": true
   },
   "outputs": [],
   "source": []
  }
 ],
 "metadata": {
  "kernelspec": {
   "display_name": "Python 3",
   "language": "python",
   "name": "python3"
  },
  "language_info": {
   "codemirror_mode": {
    "name": "ipython",
    "version": 3
   },
   "file_extension": ".py",
   "mimetype": "text/x-python",
   "name": "python",
   "nbconvert_exporter": "python",
   "pygments_lexer": "ipython3",
   "version": "3.4.3"
  }
 },
 "nbformat": 4,
 "nbformat_minor": 0
}
