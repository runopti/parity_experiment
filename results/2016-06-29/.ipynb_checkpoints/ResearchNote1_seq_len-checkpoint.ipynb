{
 "cells": [
  {
   "cell_type": "markdown",
   "metadata": {},
   "source": [
    "## seq_len Experiment_1\n",
    "---"
   ]
  },
  {
   "cell_type": "markdown",
   "metadata": {},
   "source": [
    "#option_output_size=2 #option_max_epoch=300 #option_data_size=1000 #option_batch_size=1 #option_hidden_size=1"
   ]
  },
  {
   "cell_type": "markdown",
   "metadata": {},
   "source": [
    "|seq_len = 3| |seq_len = 4| |\n",
    "|---|---|---|---|\n",
    "|accuracy|loss|accuracy|loss|\n",
    "|![](seq_len1/experiment1-2016-06-29-19:39:20/img/acc_list.png)|![](seq_len1/experiment1-2016-06-29-19:39:20/img/total_loss_list.png)|![](seq_len1/experiment2-2016-06-29-19:42:14/img/acc_list.png)|![](seq_len1/experiment2-2016-06-29-19:42:14/img/total_loss_list.png)|\n",
    "\n",
    "|seq_len = 5| |seq_len = 6| |\n",
    "|---|---|---|---|\n",
    "|accuracy|loss|accuracy|loss|\n",
    "|![](seq_len1/experiment3-2016-06-29-19:44:48/img/acc_list.png)|![](seq_len1/experiment3-2016-06-29-19:44:48/img/total_loss_list.png)|![](seq_len1/experiment4-2016-06-29-19:47:11/img/acc_list.png)|![](seq_len1/experiment4-2016-06-29-19:47:11/img/total_loss_list.png)|"
   ]
  },
  {
   "cell_type": "markdown",
   "metadata": {},
   "source": []
  },
  {
   "cell_type": "markdown",
   "metadata": {},
   "source": [
    "## seq_len Experiment_2\n",
    "---"
   ]
  },
  {
   "cell_type": "markdown",
   "metadata": {},
   "source": [
    "|seq_len = 3| |seq_len = 4| |\n",
    "|---|---|---|---|\n",
    "|accuracy|loss|accuracy|loss|\n",
    "|![](seq_len2/experiment1-2016-06-29-20:19:31/img/acc_list.png)|![](seq_len2/experiment1-2016-06-29-20:19:31/img/total_loss_list.png)|![](seq_len2/experiment2-2016-06-29-20:22:24/img/acc_list.png)|![](seq_len2/experiment2-2016-06-29-20:22:24/img/total_loss_list.png)|\n",
    "\n",
    "|seq_len = 5| |seq_len = 6| |\n",
    "|---|---|---|---|\n",
    "|accuracy|loss|accuracy|loss|\n",
    "|![](seq_len2/experiment3-2016-06-29-20:24:59/img/acc_list.png)|![](seq_len2/experiment3-2016-06-29-20:24:59/img/total_loss_list.png)|![](seq_len2/experiment4-2016-06-29-20:27:25/img/acc_list.png)|![](seq_len2/experiment4-2016-06-29-20:27:25/img/total_loss_list.png)|"
   ]
  },
  {
   "cell_type": "markdown",
   "metadata": {},
   "source": [
    "## seq_len Experiment_3\n",
    "---"
   ]
  },
  {
   "cell_type": "markdown",
   "metadata": {},
   "source": [
    "|seq_len = 3| |seq_len = 4| |\n",
    "|---|---|---|---|\n",
    "|accuracy|loss|accuracy|loss|\n",
    "|![](seq_len3/experiment1-2016-06-29-20:39:51/img/acc_list.png)|![](seq_len3/experiment1-2016-06-29-20:39:51/img/total_loss_list.png)|![](seq_len3/experiment2-2016-06-29-20:42:46/img/acc_list.png)|![](seq_len3/experiment2-2016-06-29-20:42:46/img/total_loss_list.png)|\n",
    "\n",
    "|seq_len = 5| |seq_len = 6| |\n",
    "|---|---|---|---|\n",
    "|accuracy|loss|accuracy|loss|\n",
    "|![](seq_len3/experiment3-2016-06-29-20:45:19/img/acc_list.png)|![](seq_len3/experiment3-2016-06-29-20:45:19/img/total_loss_list.png)|![](seq_len3/experiment4-2016-06-29-20:47:44/img/acc_list.png)|![](seq_len3/experiment4-2016-06-29-20:47:44/img/total_loss_list.png)|"
   ]
  },
  {
   "cell_type": "markdown",
   "metadata": {},
   "source": [
    "## seq_len Experiment_4\n",
    "---"
   ]
  },
  {
   "cell_type": "markdown",
   "metadata": {},
   "source": [
    "|seq_len = 3| |seq_len = 4| |\n",
    "|---|---|---|---|\n",
    "|accuracy|loss|accuracy|loss|\n",
    "|![](seq_len4/experiment1-2016-06-29-20:54:02/img/acc_list.png)|![](seq_len4/experiment1-2016-06-29-20:54:02/img/total_loss_list.png)|![](seq_len4/experiment2-2016-06-29-20:56:55/img/acc_list.png)|![](seq_len4/experiment2-2016-06-29-20:56:55/img/total_loss_list.png)|\n",
    "\n",
    "|seq_len = 5| |seq_len = 6| |\n",
    "|---|---|---|---|\n",
    "|accuracy|loss|accuracy|loss|\n",
    "|![](seq_len4/experiment3-2016-06-29-20:59:31/img/acc_list.png)|![](seq_len4/experiment3-2016-06-29-20:59:31/img/total_loss_list.png)|![](seq_len4/experiment4-2016-06-29-21:01:58/img/acc_list.png)|![](seq_len4/experiment4-2016-06-29-21:01:58/img/total_loss_list.png)|"
   ]
  },
  {
   "cell_type": "markdown",
   "metadata": {},
   "source": [
    "## seq_len Experiment_5\n",
    "---"
   ]
  },
  {
   "cell_type": "markdown",
   "metadata": {},
   "source": [
    "|seq_len = 3| |seq_len = 4| |\n",
    "|---|---|---|---|\n",
    "|accuracy|loss|accuracy|loss|\n",
    "|![](seq_len5/experiment1-2016-06-29-21:57:20/img/acc_list.png)|![](seq_len5/experiment1-2016-06-29-21:57:20/img/total_loss_list.png)|![](seq_len5/experiment2-2016-06-29-22:00:12/img/acc_list.png)|![](seq_len5/experiment2-2016-06-29-22:00:12/img/total_loss_list.png)|\n",
    "\n",
    "|seq_len = 5| |seq_len = 6| |\n",
    "|---|---|---|---|\n",
    "|accuracy|loss|accuracy|loss|\n",
    "|![](seq_len5/experiment3-2016-06-29-22:02:49/img/acc_list.png)|![](seq_len5/experiment3-2016-06-29-22:02:49/img/total_loss_list.png)|![](seq_len5/experiment4-2016-06-29-22:05:14/img/acc_list.png)|![](seq_len5/experiment4-2016-06-29-22:05:14/img/total_loss_list.png)|"
   ]
  },
  {
   "cell_type": "markdown",
   "metadata": {},
   "source": [
    "## seq_len Experiment_6\n",
    "---"
   ]
  },
  {
   "cell_type": "markdown",
   "metadata": {},
   "source": [
    "|seq_len = 3| |seq_len = 4| |\n",
    "|---|---|---|---|\n",
    "|accuracy|loss|accuracy|loss|\n",
    "|![](seq_len6/experiment1-2016-06-29-22:30:38/img/acc_list.png)|![](seq_len6/experiment1-2016-06-29-22:30:38/img/total_loss_list.png)|![](seq_len6/experiment2-2016-06-29-22:33:31/img/acc_list.png)|![](seq_len6/experiment2-2016-06-29-22:33:31/img/total_loss_list.png)|\n",
    "\n",
    "|seq_len = 5| |seq_len = 6| |\n",
    "|---|---|---|---|\n",
    "|accuracy|loss|accuracy|loss|\n",
    "|![](seq_len6/experiment3-2016-06-29-22:36:03/img/acc_list.png)|![](seq_len6/experiment3-2016-06-29-22:36:03/img/total_loss_list.png)|![](seq_len6/experiment4-2016-06-29-22:38:26/img/acc_list.png)|![](seq_len6/experiment4-2016-06-29-22:38:26/img/total_loss_list.png)|"
   ]
  },
  {
   "cell_type": "markdown",
   "metadata": {},
   "source": [
    "## seq_len + epoch_diff\n",
    "---"
   ]
  },
  {
   "cell_type": "markdown",
   "metadata": {},
   "source": [
    "|seq_len = 3 epoch = 600| |seq_len = 4 epoch = 900 | |\n",
    "|---|---|---|---|\n",
    "|accuracy|loss|accuracy|loss|\n",
    "|![](seq_len7_diffEpoch/experiment1-2016-06-29-22:53:19/img/acc_list.png)|![](seq_len7_diffEpoch/experiment1-2016-06-29-22:53:19/img/total_loss_list.png)|![](seq_len7_diffEpoch/experiment2-2016-06-29-22:58:27/img/acc_list.png)|![](seq_len7_diffEpoch/experiment2-2016-06-29-22:58:27/img/total_loss_list.png)|\n",
    "\n",
    "|seq_len = 5 epoch = 1200| |seq_len = 6 epoch = 1500| |\n",
    "|---|---|---|---|\n",
    "|accuracy|loss|accuracy|loss|\n",
    "|![](seq_len7_diffEpoch/experiment3-2016-06-29-23:05:40/img/acc_list.png)|![](seq_len7_diffEpoch/experiment3-2016-06-29-23:05:40/img/total_loss_list.png)|![](seq_len7_diffEpoch/experiment4-2016-06-29-23:14:40/img/acc_list.png)|![](seq_len7_diffEpoch/experiment4-2016-06-29-23:14:40/img/total_loss_list.png)|"
   ]
  },
  {
   "cell_type": "code",
   "execution_count": null,
   "metadata": {
    "collapsed": true
   },
   "outputs": [],
   "source": [
    "<img src=\"seq_len1/experiment1-2016-06-29-19:39:20/img/acc_list.png\" width=500px>"
   ]
  }
 ],
 "metadata": {
  "kernelspec": {
   "display_name": "Python 3",
   "language": "python",
   "name": "python3"
  },
  "language_info": {
   "codemirror_mode": {
    "name": "ipython",
    "version": 3
   },
   "file_extension": ".py",
   "mimetype": "text/x-python",
   "name": "python",
   "nbconvert_exporter": "python",
   "pygments_lexer": "ipython3",
   "version": "3.4.3"
  }
 },
 "nbformat": 4,
 "nbformat_minor": 0
}
