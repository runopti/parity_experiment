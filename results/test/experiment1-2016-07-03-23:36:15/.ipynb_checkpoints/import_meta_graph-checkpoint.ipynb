{
 "cells": [
  {
   "cell_type": "code",
   "execution_count": 1,
   "metadata": {
    "collapsed": false
   },
   "outputs": [],
   "source": [
    "import tensorflow as tf\n",
    "import numpy as np"
   ]
  },
  {
   "cell_type": "code",
   "execution_count": 2,
   "metadata": {
    "collapsed": false
   },
   "outputs": [],
   "source": [
    "import getData"
   ]
  },
  {
   "cell_type": "code",
   "execution_count": 3,
   "metadata": {
    "collapsed": true
   },
   "outputs": [],
   "source": [
    "def calc_accuracy(n, output):\n",
    "    seq_len = 4\n",
    "    total_sum = 0 \n",
    "    batch_size = 1\n",
    "    hidden_size = 1\n",
    "    for i in range(n):\n",
    "        state = tf.zeros([batch_size, hidden_size])\n",
    "        x = getData.createInputData(seq_len)\n",
    "        x = np.asarray(x).reshape(1, seq_len)\n",
    "        y = getData.createTargetData(x[0])[-1]\n",
    "        y_target = np.zeros((1,2))\n",
    "        if y == 0: y_target[0][0] = 1 \n",
    "        else: y_target[0][1] = 1 \n",
    "        feed_dict={data:x, target: y_target}\n",
    "        output_ = sess.run(output, feed_dict=feed_dict)\n",
    "        #print(np.argmax(y_target))\n",
    "        #print(np.argmax(output_))\n",
    "        if np.argmax(y_target) == np.argmax(output_):\n",
    "            total_sum += 1\n",
    "    return (1.0 * total_sum / n)"
   ]
  },
  {
   "cell_type": "code",
   "execution_count": 5,
   "metadata": {
    "collapsed": false
   },
   "outputs": [
    {
     "ename": "NameError",
     "evalue": "name 'session' is not defined",
     "output_type": "error",
     "traceback": [
      "\u001b[0;31m---------------------------------------------------------------------------\u001b[0m",
      "\u001b[0;31mNameError\u001b[0m                                 Traceback (most recent call last)",
      "\u001b[0;32m<ipython-input-5-86936991b1db>\u001b[0m in \u001b[0;36m<module>\u001b[0;34m()\u001b[0m\n\u001b[1;32m     21\u001b[0m     \u001b[0mtarget\u001b[0m \u001b[0;34m=\u001b[0m \u001b[0mtf\u001b[0m\u001b[0;34m.\u001b[0m\u001b[0mget_collection\u001b[0m\u001b[0;34m(\u001b[0m\u001b[0;34m'target'\u001b[0m\u001b[0;34m)\u001b[0m\u001b[0;34m[\u001b[0m\u001b[0;36m0\u001b[0m\u001b[0;34m]\u001b[0m\u001b[0;34m\u001b[0m\u001b[0m\n\u001b[1;32m     22\u001b[0m     \u001b[0minitial_state\u001b[0m \u001b[0;34m=\u001b[0m \u001b[0mtf\u001b[0m\u001b[0;34m.\u001b[0m\u001b[0mget_collection\u001b[0m\u001b[0;34m(\u001b[0m\u001b[0;34m'initial_state'\u001b[0m\u001b[0;34m)\u001b[0m\u001b[0;34m[\u001b[0m\u001b[0;36m0\u001b[0m\u001b[0;34m]\u001b[0m\u001b[0;34m\u001b[0m\u001b[0m\n\u001b[0;32m---> 23\u001b[0;31m     \u001b[0mcalc_accuracy\u001b[0m\u001b[0;34m(\u001b[0m\u001b[0;36m100\u001b[0m\u001b[0;34m,\u001b[0m \u001b[0moutput_op\u001b[0m\u001b[0;34m)\u001b[0m\u001b[0;34m\u001b[0m\u001b[0m\n\u001b[0m\u001b[1;32m     24\u001b[0m     \u001b[0;31m#for step in xrange(1000000):\u001b[0m\u001b[0;34m\u001b[0m\u001b[0;34m\u001b[0m\u001b[0m\n\u001b[1;32m     25\u001b[0m         \u001b[0;31m#sess.run(train_op)\u001b[0m\u001b[0;34m\u001b[0m\u001b[0;34m\u001b[0m\u001b[0m\n",
      "\u001b[0;32m<ipython-input-3-1e13e7f293ad>\u001b[0m in \u001b[0;36mcalc_accuracy\u001b[0;34m(n, output)\u001b[0m\n\u001b[1;32m     13\u001b[0m         \u001b[0;32melse\u001b[0m\u001b[0;34m:\u001b[0m \u001b[0my_target\u001b[0m\u001b[0;34m[\u001b[0m\u001b[0;36m0\u001b[0m\u001b[0;34m]\u001b[0m\u001b[0;34m[\u001b[0m\u001b[0;36m1\u001b[0m\u001b[0;34m]\u001b[0m \u001b[0;34m=\u001b[0m \u001b[0;36m1\u001b[0m\u001b[0;34m\u001b[0m\u001b[0m\n\u001b[1;32m     14\u001b[0m         \u001b[0mfeed_dict\u001b[0m\u001b[0;34m=\u001b[0m\u001b[0;34m{\u001b[0m\u001b[0mdata\u001b[0m\u001b[0;34m:\u001b[0m\u001b[0mx\u001b[0m\u001b[0;34m,\u001b[0m \u001b[0mtarget\u001b[0m\u001b[0;34m:\u001b[0m \u001b[0my_target\u001b[0m\u001b[0;34m}\u001b[0m\u001b[0;34m\u001b[0m\u001b[0m\n\u001b[0;32m---> 15\u001b[0;31m         \u001b[0moutput_\u001b[0m \u001b[0;34m=\u001b[0m \u001b[0msession\u001b[0m\u001b[0;34m.\u001b[0m\u001b[0mrun\u001b[0m\u001b[0;34m(\u001b[0m\u001b[0moutput\u001b[0m\u001b[0;34m,\u001b[0m \u001b[0mfeed_dict\u001b[0m\u001b[0;34m=\u001b[0m\u001b[0mfeed_dict\u001b[0m\u001b[0;34m)\u001b[0m\u001b[0;34m\u001b[0m\u001b[0m\n\u001b[0m\u001b[1;32m     16\u001b[0m         \u001b[0;31m#print(np.argmax(y_target))\u001b[0m\u001b[0;34m\u001b[0m\u001b[0;34m\u001b[0m\u001b[0m\n\u001b[1;32m     17\u001b[0m         \u001b[0;31m#print(np.argmax(output_))\u001b[0m\u001b[0;34m\u001b[0m\u001b[0;34m\u001b[0m\u001b[0m\n",
      "\u001b[0;31mNameError\u001b[0m: name 'session' is not defined"
     ]
    }
   ],
   "source": [
    "# # Create a saver.\n",
    "# saver = tf.train.Saver(...variables...)\n",
    "# # Remember the training_op we want to run by adding it to a collection.\n",
    "# tf.add_to_collection('train_op', train_op)\n",
    "# sess = tf.Session()\n",
    "# for step in xrange(1000000):\n",
    "#     sess.run(train_op)\n",
    "#     if step % 1000 == 0:\n",
    "#         # Saves checkpoint, which by default also exports a meta_graph\n",
    "#         # named 'my-model-global_step.meta'.\n",
    "#         saver.save(sess, 'my-model', global_step=step)\n",
    "        \n",
    "with tf.Session() as sess:\n",
    "    new_saver = tf.train.import_meta_graph('my_model-0.meta')\n",
    "    new_saver.restore(sess, 'my_model-0')\n",
    "    # tf.get_collection() returns a list. In this example we only want the\n",
    "    # first one.\n",
    "    #train_op = tf.get_collection('train_op')[0]\n",
    "    output_op = tf.get_collection('output')[0]\n",
    "    data = tf.get_collection('data')[0]\n",
    "    target = tf.get_collection('target')[0]\n",
    "    initial_state = tf.get_collection('initial_state')[0]\n",
    "    #calc_accuracy(100, output_op, initial_state, data, target)\n",
    "    calc_accuracy(100, output_op, initial_state, data, target)\n",
    "    #for step in xrange(1000000):\n",
    "        #sess.run(train_op)"
   ]
  },
  {
   "cell_type": "code",
   "execution_count": null,
   "metadata": {
    "collapsed": true
   },
   "outputs": [],
   "source": []
  }
 ],
 "metadata": {
  "kernelspec": {
   "display_name": "Python 3",
   "language": "python",
   "name": "python3"
  },
  "language_info": {
   "codemirror_mode": {
    "name": "ipython",
    "version": 3
   },
   "file_extension": ".py",
   "mimetype": "text/x-python",
   "name": "python",
   "nbconvert_exporter": "python",
   "pygments_lexer": "ipython3",
   "version": "3.4.3"
  }
 },
 "nbformat": 4,
 "nbformat_minor": 0
}
