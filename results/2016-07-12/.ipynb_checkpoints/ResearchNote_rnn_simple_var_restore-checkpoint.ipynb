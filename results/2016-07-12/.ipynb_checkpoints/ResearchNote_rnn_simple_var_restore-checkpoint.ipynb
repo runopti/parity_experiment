{
 "cells": [
  {
   "cell_type": "code",
   "execution_count": 1,
   "metadata": {
    "collapsed": true
   },
   "outputs": [],
   "source": [
    "import tensorflow as tf\n",
    "import numpy as np\n",
    "import math"
   ]
  },
  {
   "cell_type": "code",
   "execution_count": 21,
   "metadata": {
    "collapsed": true
   },
   "outputs": [],
   "source": [
    "g1 = tf.Graph()"
   ]
  },
  {
   "cell_type": "code",
   "execution_count": 22,
   "metadata": {
    "collapsed": false
   },
   "outputs": [
    {
     "name": "stdout",
     "output_type": "stream",
     "text": [
      "BasicRNNCell/Linear/Matrix:0\n",
      "BasicRNNCell/Linear/Bias:0\n",
      "weights:0\n",
      "biases:0\n"
     ]
    }
   ],
   "source": [
    "with g1.as_default():\n",
    "    with tf.Session() as sess:\n",
    "        new_saver = tf.train.import_meta_graph('./test-2016-07-12-18:07:14/my_model-0.meta')\n",
    "        new_saver.restore(sess, './test-2016-07-12-18:07:14/my_model-0')\n",
    "        for var in tf.trainable_variables():\n",
    "            print(var.name)\n",
    "            #print(var.graph)\n",
    "            #print(var.eval())"
   ]
  },
  {
   "cell_type": "code",
   "execution_count": 37,
   "metadata": {
    "collapsed": true
   },
   "outputs": [],
   "source": [
    "from easydict import EasyDict as edict\n",
    "args = edict({'hidden_size':3, 'batch_size':1, 'output_size': 2, 'seq_len': 5, 'train_method': \"single\", 'max_grad_norm':5.0, 'grad_clip': True})"
   ]
  },
  {
   "cell_type": "code",
   "execution_count": 38,
   "metadata": {
    "collapsed": true
   },
   "outputs": [],
   "source": [
    "hidden_size = args.hidden_size # 2 # 4\n",
    "batch_size = args.batch_size #1\n",
    "output_size = args.output_size  #2\n",
    "seq_len = args.seq_len  #12 #3  #6 "
   ]
  },
  {
   "cell_type": "code",
   "execution_count": 39,
   "metadata": {
    "collapsed": true
   },
   "outputs": [],
   "source": [
    "g2 = tf.Graph()"
   ]
  },
  {
   "cell_type": "code",
   "execution_count": 40,
   "metadata": {
    "collapsed": false
   },
   "outputs": [],
   "source": [
    "with g2.as_default(): \n",
    "    ############## Graph construction ################\n",
    "    data = tf.placeholder(tf.float32, shape=[batch_size, seq_len])\n",
    "    if args.train_method == \"single\":\n",
    "        target = tf.placeholder(tf.float32, shape=[batch_size, output_size])\n",
    "    else:\n",
    "        target = tf.placeholder(tf.float32, shape=[seq_len, batch_size, output_size])\n",
    "        target_list = [tf.squeeze(tf.slice(target, [i,0,0], [1, batch_size, output_size])) for i in range(seq_len)]\n",
    "    learning_rate = tf.placeholder(tf.float32, shape=[])\n",
    "\n",
    "    rnn_cell = tf.nn.rnn_cell.BasicRNNCell(hidden_size)\n",
    "    # initialize the state\n",
    "    initial_state = state = tf.zeros([batch_size, hidden_size])\n",
    "\n",
    "    for i in range(seq_len):\n",
    "        if i > 0: tf.get_variable_scope().reuse_variables()\n",
    "        cell_output, state = rnn_cell(tf.reshape(data[:,i], [1,1]), state) # should change [1,1] if I want to change batch_size?\n",
    "        state_name = 'state_' + str(i)\n",
    "        tf.add_to_collection(state_name, state)\n",
    "        # I need to use tf.get_variable to activate reuse_variables()\n",
    "        weights = tf.get_variable(\"weights\", dtype=tf.float32, initializer=tf.truncated_normal([hidden_size, output_size], stddev=1.0/math.sqrt(float(hidden_size))))\n",
    "        biases = tf.get_variable(\"biases\", dtype=tf.float32,initializer=tf.truncated_normal([output_size], stddev=1.0/math.sqrt(float(hidden_size))))\n",
    "        output = tf.nn.softmax(tf.matmul(cell_output, weights) + biases) # the size of output should be just [batch_size, 1] right?\n",
    "        if args.train_method == \"single\":                                                \n",
    "            pass\n",
    "        else:\n",
    "            # target has to be shape=[seq_len * [1,2]]\n",
    "            loss_per_digit = -tf.reduce_sum(target_list[i]*tf.log(output)) # this should be just 1 by 1 - 1 by 1            \n",
    "            if args.grad_clip:\n",
    "                tvars = tf.trainable_variables()\n",
    "                grads, _ = tf.clip_by_global_norm(tf.gradients(loss_per_digit, tvars), args.max_grad_norm)\n",
    "                optimizer = tf.train.AdamOptimizer(learning_rate=learning_rate)\n",
    "                train_op = optimizer.apply_gradients(zip(grads, tvars))\n",
    "            else:\n",
    "                train_op = tf.train.AdamOptimizer(learning_rate=learning_rate).minimize(loss)\n",
    "\n",
    "    if args.train_method == \"single\":\n",
    "        #output = tf.Print(output, [output], message=\"this is output: \")\n",
    "        #print(state)\n",
    "        loss = -tf.reduce_sum(target*tf.log(output)) # this should be just 1 by 1 - 1 by 1\n",
    "        tf.scalar_summary(\"loss\", loss)\n",
    "        #train_op = tf.train.GradientDescentOptimizer(0.1).minimize(loss)\n",
    "        if args.grad_clip:\n",
    "            tvars = tf.trainable_variables()\n",
    "            grads, _ = tf.clip_by_global_norm(tf.gradients(loss, tvars), args.max_grad_norm)\n",
    "            #optimizer = tf.train.GradientDescentOptimizer(learning_rate=learning_rate)\n",
    "            optimizer = tf.train.AdamOptimizer(learning_rate=learning_rate)\n",
    "            train_op = optimizer.apply_gradients(zip(grads, tvars))\n",
    "        else:\n",
    "            train_op = tf.train.AdamOptimizer(learning_rate=learning_rate).minimize(loss) # 0.001\n",
    "    else:\n",
    "        loss = tf.identity(loss_per_digit)\n",
    "    \n",
    "\n",
    "    tf.add_to_collection('train_op', train_op)\n",
    "    tf.add_to_collection('output', output)\n",
    "    tf.add_to_collection('initial_state', initial_state)\n",
    "    tf.add_to_collection('data', data)\n",
    "    tf.add_to_collection('target', target)\n",
    "    tf.add_to_collection('state', state)\n",
    "\n",
    "\n",
    "    final_state = state\n",
    "\n",
    "    summary_op = tf.merge_all_summaries()\n",
    "    init_op = tf.initialize_all_variables()\n",
    "    ############### Graph construction end ##########"
   ]
  },
  {
   "cell_type": "code",
   "execution_count": 41,
   "metadata": {
    "collapsed": false
   },
   "outputs": [
    {
     "name": "stdout",
     "output_type": "stream",
     "text": [
      "BasicRNNCell/Linear/Matrix:0\n",
      "[[-5.19577646  4.64771223  3.87915826]\n",
      " [ 1.66067779  0.2092355  -0.03951954]\n",
      " [-2.27840066  4.23059607 -1.46529305]\n",
      " [-0.79938322  2.59169292  1.6551441 ]]\n",
      "BasicRNNCell/Linear/Bias:0\n",
      "[ 2.50996876 -2.09449005 -1.98942399]\n",
      "weights:0\n",
      "[[ 2.45542121 -1.30006933]\n",
      " [ 2.24962735 -1.27978837]\n",
      " [ 0.06228848  0.83398497]]\n",
      "biases:0\n",
      "[ 0.87577152  0.86157644]\n"
     ]
    }
   ],
   "source": [
    "with g2.as_default():\n",
    "    saver = tf.train.Saver(tf.all_variables())\n",
    "    with tf.Session() as sess:\n",
    "        saver.restore(sess, './test-2016-07-12-18:07:14/my_model-0')\n",
    "        for var in tf.trainable_variables():\n",
    "            print(var.name)\n",
    "            print(var.eval())"
   ]
  },
  {
   "cell_type": "markdown",
   "metadata": {},
   "source": [
    "## To Do\n",
    "- visualize hidden state\n",
    "- vary the seq_len"
   ]
  },
  {
   "cell_type": "code",
   "execution_count": 30,
   "metadata": {
    "collapsed": true
   },
   "outputs": [],
   "source": [
    "import getData"
   ]
  },
  {
   "cell_type": "code",
   "execution_count": 56,
   "metadata": {
    "collapsed": false
   },
   "outputs": [],
   "source": [
    "# let's visualize the hidden state\n",
    "with g2.as_default():\n",
    "    saver_vis = tf.train.Saver(tf.all_variables())\n",
    "    with tf.Session() as sess:\n",
    "        saver_vis.restore(sess, './test-2016-07-12-18:07:14/my_model-0')\n",
    "        \n",
    "        state = tf.get_collection('state')[0]\n",
    "        state_1 = tf.get_collection('state_1')[0]\n",
    "        state_2 = tf.get_collection('state_2')[0]\n",
    "        state_3 = tf.get_collection('state_3')[0]\n",
    "        state_4 = tf.get_collection('state_4')[0]\n",
    "        output = tf.get_collection('output')[0]\n",
    "        \n",
    "        x = getData.createInputData(seq_len)        \n",
    "        x = np.float32(np.asarray(x).reshape(1, seq_len))\n",
    "        y = getData.createTargetData(x[0])[-1]\n",
    "        y_target = np.zeros((1,2))\n",
    "        if y == 0: y_target[0][0] = 1\n",
    "        else: y_target[0][1] = 1\n",
    "        feed_dict={data:x}\n",
    "        output_, state_1_, state_2_, state_3_,state_4_ = sess.run([output, state_1, state_2, state_3, state_4], feed_dict=feed_dict)\n",
    "        "
   ]
  },
  {
   "cell_type": "code",
   "execution_count": 58,
   "metadata": {
    "collapsed": false
   },
   "outputs": [
    {
     "name": "stdout",
     "output_type": "stream",
     "text": [
      "(1, 3)\n"
     ]
    }
   ],
   "source": [
    "print(state_4_.shape)"
   ]
  },
  {
   "cell_type": "code",
   "execution_count": 68,
   "metadata": {
    "collapsed": false
   },
   "outputs": [
    {
     "name": "stdout",
     "output_type": "stream",
     "text": [
      "[[ 0.          0.          0.        ]\n",
      " [-0.99999917  0.99999994  0.96818614]\n",
      " [-0.97588933  0.99971956 -0.94810653]\n",
      " [-0.9999826   0.99947369 -0.80258489]\n",
      " [-0.65631288 -0.15416713 -0.99984813]]\n",
      "[ 0.         -0.99999917 -0.97588933 -0.9999826  -0.65631288]\n"
     ]
    }
   ],
   "source": [
    "state_hiddens_np = np.concatenate([[[0,0,0]],state_1_, state_2_, state_3_, state_4_], 0)\n",
    "print(state_hiddens_np)\n",
    "print(state_hiddens_np[:, 0])"
   ]
  },
  {
   "cell_type": "code",
   "execution_count": 53,
   "metadata": {
    "collapsed": false
   },
   "outputs": [
    {
     "name": "stdout",
     "output_type": "stream",
     "text": [
      "[[ 0.01985729  0.98014271]]\n"
     ]
    }
   ],
   "source": [
    "print(output_)"
   ]
  },
  {
   "cell_type": "code",
   "execution_count": 66,
   "metadata": {
    "collapsed": false
   },
   "outputs": [
    {
     "name": "stdout",
     "output_type": "stream",
     "text": [
      "[[ 1.  1.  0.  1.  0.]]\n"
     ]
    },
    {
     "data": {
      "text/plain": [
       "array([1, 1, 1, 0, 1])"
      ]
     },
     "execution_count": 66,
     "metadata": {},
     "output_type": "execute_result"
    }
   ],
   "source": [
    "print(x)\n",
    "np.array([1, 1,1,0,1])"
   ]
  },
  {
   "cell_type": "code",
   "execution_count": 55,
   "metadata": {
    "collapsed": true
   },
   "outputs": [],
   "source": [
    "import matplotlib.pyplot as plt"
   ]
  },
  {
   "cell_type": "code",
   "execution_count": 89,
   "metadata": {
    "collapsed": false
   },
   "outputs": [
    {
     "data": {
      "image/png": "[encoded data removed]",
      "text/plain": [
       "<matplotlib.figure.Figure at 0x10a2e5668>"
      ]
     },
     "metadata": {},
     "output_type": "display_data"
    }
   ],
   "source": [
    "%matplotlib inline\n",
    "x_data = np.array(range(5))\n",
    "y_data2 = np.array([1, 1,1,0,1]) * 0.1\n",
    "y_data = state_hiddens_np[:, 0]\n",
    "plt.figure(figsize=(8,8))\n",
    "plot_out = plt.plot(x_data,y_data,'r--', x_data, y_data2, x_data, state_hiddens_np[:, 1], 'r--',x_data, state_hiddens_np[:, 2], 'y--', lw=2,alpha=1.0)\n",
    "plt.show()"
   ]
  },
  {
   "cell_type": "code",
   "execution_count": null,
   "metadata": {
    "collapsed": true
   },
   "outputs": [],
   "source": []
  }
 ],
 "metadata": {
  "kernelspec": {
   "display_name": "Python 3",
   "language": "python",
   "name": "python3"
  },
  "language_info": {
   "codemirror_mode": {
    "name": "ipython",
    "version": 3
   },
   "file_extension": ".py",
   "mimetype": "text/x-python",
   "name": "python",
   "nbconvert_exporter": "python",
   "pygments_lexer": "ipython3",
   "version": "3.4.3"
  }
 },
 "nbformat": 4,
 "nbformat_minor": 0
}
