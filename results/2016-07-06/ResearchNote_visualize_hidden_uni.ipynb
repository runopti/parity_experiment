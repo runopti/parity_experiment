{
 "cells": [
  {
   "cell_type": "code",
   "execution_count": 1,
   "metadata": {
    "collapsed": true
   },
   "outputs": [],
   "source": [
    "import tensorflow as tf\n",
    "import numpy as np\n",
    "import math"
   ]
  },
  {
   "cell_type": "code",
   "execution_count": 2,
   "metadata": {
    "collapsed": false
   },
   "outputs": [],
   "source": [
    "import getData"
   ]
  },
  {
   "cell_type": "code",
   "execution_count": 3,
   "metadata": {
    "collapsed": true
   },
   "outputs": [],
   "source": [
    "n = 5"
   ]
  },
  {
   "cell_type": "code",
   "execution_count": 4,
   "metadata": {
    "collapsed": false
   },
   "outputs": [],
   "source": [
    "test_input_data = getData.createInputData(n)\n",
    "test_target_data = getData.createTargetData(test_input_data)"
   ]
  },
  {
   "cell_type": "code",
   "execution_count": 7,
   "metadata": {
    "collapsed": true
   },
   "outputs": [],
   "source": [
    "def calc_accuracy(n, state, session, seq_len):                                                                                                                                                       \n",
    "    total_sum = 0\n",
    "    for i in range(n):\n",
    "        state = initial_state.eval()\n",
    "        x = getData.createInputData(seq_len)\n",
    "        x = np.asarray(x).reshape(1, seq_len)\n",
    "        y = getData.createTargetData(x[0])[-1]\n",
    "        y_target = np.zeros((1,2))\n",
    "        if y == 0: y_target[0][0] = 1\n",
    "        else: y_target[0][1] = 1\n",
    "        feed_dict={initial_state: state, data:x}\n",
    "        output_ = session.run(output, feed_dict=feed_dict)\n",
    "        #print(np.argmax(y_target))\n",
    "        #print(np.argmax(output_))\n",
    "        if np.argmax(y_target) == np.argmax(output_):\n",
    "            total_sum += 1\n",
    "    return (1.0 * total_sum / n)"
   ]
  },
  {
   "cell_type": "code",
   "execution_count": 15,
   "metadata": {
    "collapsed": true
   },
   "outputs": [],
   "source": [
    "def get_hidden_state(session, seq_len):\n",
    "    x = getData.createInputData(seq_len)\n",
    "    x = np.asarray(x).reshape(1, seq_len)\n",
    "    y = getData.createTargetData(x[0])[-1]\n",
    "    y_target = np.zeros((1,2))\n",
    "    if y == 0: y_target[0][0] = 1\n",
    "    else: y_target[0][1] = 1\n",
    "    init_state = initial_state.eval()\n",
    "    feed_dict={initial_state: init_state, data:x}\n",
    "    hidden_state = session.run(state, feed_dict=feed_dict) \n",
    "    print(hidden_state.shape)"
   ]
  },
  {
   "cell_type": "markdown",
   "metadata": {},
   "source": [
    "# TO DO : \n",
    "### I still need to reconstruct computational graph even if I just want to visualize hidden states. So I should first resolve the restoring variables issue."
   ]
  },
  {
   "cell_type": "code",
   "execution_count": 17,
   "metadata": {
    "collapsed": false
   },
   "outputs": [
    {
     "name": "stdout",
     "output_type": "stream",
     "text": [
      "0.95\n"
     ]
    }
   ],
   "source": [
    "g1 = tf.Graph()\n",
    "with g1.as_default():\n",
    "    with tf.Session() as sess:\n",
    "        new_saver = tf.train.import_meta_graph('./visualize_hidden_test-2016-07-08-08:35:04/my_model-0.meta')\n",
    "        new_saver.restore(sess, './visualize_hidden_test-2016-07-08-08:35:04/my_model-0')\n",
    "        # restore variables and placeholders\n",
    "        data = tf.get_collection('data')[0]\n",
    "        target = tf.get_collection('target')[0]\n",
    "        initial_state = tf.get_collection('initial_state')[0]\n",
    "        output = tf.get_collection('output')[0]\n",
    "        state = tf.get_collection('state')[0]\n",
    "\n",
    "        y = test_target_data[-1]                                                                                                                        \n",
    "        y_target = np.zeros((1,2))\n",
    "        if y == 0: y_target[0][0] = 1 \n",
    "        else: y_target[0][1] = 1 \n",
    "        #feed_dict = {}\n",
    "        #print(sess.run(output, feed_dict = {data: np.array(test_input_data).reshape(1,3), target: y_target}))\n",
    "        \n",
    "        print(calc_accuracy(100, initial_state, sess, seq_len = 5))\n",
    "        \n",
    "        print(get_hidden_state(sess, seq_len=5))\n",
    "        \n",
    "        #print(tf.get_collection(tf.GraphKeys.TRAINABLE_VARIABLES))\n",
    "        #print(g1._nodes_by_name.keys())\n",
    "        #for step in xrange(1000000):\n",
    "            #sess.run(train_op)"
   ]
  },
  {
   "cell_type": "code",
   "execution_count": null,
   "metadata": {
    "collapsed": true
   },
   "outputs": [],
   "source": []
  }
 ],
 "metadata": {
  "kernelspec": {
   "display_name": "Python 3",
   "language": "python",
   "name": "python3"
  },
  "language_info": {
   "codemirror_mode": {
    "name": "ipython",
    "version": 3
   },
   "file_extension": ".py",
   "mimetype": "text/x-python",
   "name": "python",
   "nbconvert_exporter": "python",
   "pygments_lexer": "ipython3",
   "version": "3.4.3"
  }
 },
 "nbformat": 4,
 "nbformat_minor": 0
}
