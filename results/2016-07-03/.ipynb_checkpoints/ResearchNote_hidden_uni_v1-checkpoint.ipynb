{
 "cells": [
  {
   "cell_type": "markdown",
   "metadata": {},
   "source": [
    "general setting: #option_batch_size=1 #option_seq_len=4 #option_max_epoch=400 #option_output_size=2 #option_data_size=1000"
   ]
  },
  {
   "cell_type": "markdown",
   "metadata": {},
   "source": [
    "## hidden_uni Experiment_1\n",
    "---"
   ]
  },
  {
   "cell_type": "markdown",
   "metadata": {},
   "source": [
    "|hidden_uni = 1| |hidden_uni = 2| |\n",
    "|---|---|---|---|\n",
    "|accuracy|loss|accuracy|loss|\n",
    "|![](hidden_uni1/experiment1-2016-07-04-01:34:29/img/acc_list.png)|![](hidden_uni1/experiment1-2016-07-04-01:34:29/img/total_loss_list.png)|![](hidden_uni1/experiment2-2016-07-04-01:37:56/img/acc_list.png)|![](hidden_uni1/experiment2-2016-07-04-01:37:56/img/total_loss_list.png)|\n",
    "\n",
    "|hidden_uni = 3| |hidden_uni = 4| |\n",
    "|---|---|---|---|\n",
    "|accuracy|loss|accuracy|loss|\n",
    "|![](hidden_uni1/experiment3-2016-07-04-01:41:26/img/acc_list.png)|![](hidden_uni1/experiment3-2016-07-04-01:41:26/img/total_loss_list.png)|![](hidden_uni1/experiment4-2016-07-04-01:44:55/img/acc_list.png)|![](hidden_uni1/experiment4-2016-07-04-01:44:55/img/total_loss_list.png)|"
   ]
  },
  {
   "cell_type": "markdown",
   "metadata": {},
   "source": [
    "## hidden_uni Experiment_2\n",
    "---"
   ]
  },
  {
   "cell_type": "markdown",
   "metadata": {},
   "source": [
    "|hidden_uni = 1| |hidden_uni = 2| |\n",
    "|---|---|---|---|\n",
    "|accuracy|loss|accuracy|loss|\n",
    "|![](hidden_uni2/experiment1-2016-07-04-01:55:17/img/acc_list.png)|![](hidden_uni2/experiment1-2016-07-04-01:55:17/img/total_loss_list.png)|![](hidden_uni2/experiment2-2016-07-04-01:58:45/img/acc_list.png)|![](hidden_uni2/experiment2-2016-07-04-01:58:45/img/total_loss_list.png)|\n",
    "\n",
    "|hidden_uni = 3| |hidden_uni = 4| |\n",
    "|---|---|---|---|\n",
    "|accuracy|loss|accuracy|loss|\n",
    "|![](hidden_uni2/experiment3-2016-07-04-02:02:14/img/acc_list.png)|![](hidden_uni2/experiment3-2016-07-04-02:02:14/img/total_loss_list.png)|![](hidden_uni2/experiment4-2016-07-04-02:05:44/img/acc_list.png)|![](hidden_uni2/experiment4-2016-07-04-02:05:44/img/total_loss_list.png)|"
   ]
  },
  {
   "cell_type": "markdown",
   "metadata": {},
   "source": [
    "## hidden_uni Experiment_3\n",
    "---"
   ]
  },
  {
   "cell_type": "markdown",
   "metadata": {},
   "source": [
    "|hidden_uni = 1| |hidden_uni = 2| |\n",
    "|---|---|---|---|\n",
    "|accuracy|loss|accuracy|loss|\n",
    "|![](hidden_uni3/experiment1-2016-07-04-02:23:02/img/acc_list.png)|![](hidden_uni3/experiment1-2016-07-04-02:23:02/img/total_loss_list.png)|![](hidden_uni3/experiment2-2016-07-04-02:26:29/img/acc_list.png)|![](hidden_uni3/experiment2-2016-07-04-02:26:29/img/total_loss_list.png)|\n",
    "\n",
    "|hidden_uni = 3| |hidden_uni = 4| |\n",
    "|---|---|---|---|\n",
    "|accuracy|loss|accuracy|loss|\n",
    "|![](hidden_uni3/experiment3-2016-07-04-02:29:59/img/acc_list.png)|![](hidden_uni3/experiment3-2016-07-04-02:29:59/img/total_loss_list.png)|![](hidden_uni3/experiment4-2016-07-04-02:33:28/img/acc_list.png)|![](hidden_uni3/experiment4-2016-07-04-02:33:28/img/total_loss_list.png)|"
   ]
  },
  {
   "cell_type": "markdown",
   "metadata": {},
   "source": [
    "Notes:\n",
    "\n",
    "The general trend is that as the number of hidden units increase, the convergence gets faster. However, as we see in Experiment 1 and Experiment 2, \"hidden_uni = 3\" achieves better loss than \"hidden_uni = 4.\"  "
   ]
  },
  {
   "cell_type": "markdown",
   "metadata": {},
   "source": [
    "## TO DO NEXT\n",
    "- hidden_uni = 5, 6, 7? "
   ]
  },
  {
   "cell_type": "code",
   "execution_count": null,
   "metadata": {
    "collapsed": true
   },
   "outputs": [],
   "source": []
  }
 ],
 "metadata": {
  "kernelspec": {
   "display_name": "Python 3",
   "language": "python",
   "name": "python3"
  },
  "language_info": {
   "codemirror_mode": {
    "name": "ipython",
    "version": 3
   },
   "file_extension": ".py",
   "mimetype": "text/x-python",
   "name": "python",
   "nbconvert_exporter": "python",
   "pygments_lexer": "ipython3",
   "version": "3.4.3"
  }
 },
 "nbformat": 4,
 "nbformat_minor": 0
}
