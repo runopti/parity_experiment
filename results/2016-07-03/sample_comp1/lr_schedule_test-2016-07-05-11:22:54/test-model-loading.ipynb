{
 "cells": [
  {
   "cell_type": "markdown",
   "metadata": {},
   "source": [
    "### Purpose of this notebook:\n",
    "- To verify that the model loading code is valid in terms of restoring the trained model with reasonable accuracy\n",
    "\n",
    "### Result:\n",
    "- Looks good because we got 100% accuracy"
   ]
  },
  {
   "cell_type": "code",
   "execution_count": 1,
   "metadata": {
    "collapsed": true
   },
   "outputs": [],
   "source": [
    "import tensorflow as tf\n",
    "import math\n",
    "import numpy as np\n",
    "import matplotlib.pyplot as plt"
   ]
  },
  {
   "cell_type": "code",
   "execution_count": 2,
   "metadata": {
    "collapsed": true
   },
   "outputs": [],
   "source": [
    "import getData"
   ]
  },
  {
   "cell_type": "markdown",
   "metadata": {},
   "source": [
    "#option_lr_test=True\n",
    "#option_hidden_size=3\n",
    "#option_seq_len=5\n",
    "#option_batch_size=1\n",
    "#python_version=3.4.3\n",
    "#elapsed_utime=2665.7799999999997\n",
    "#option_data_size=4000\n",
    "#sys_uname=uname_result(system='Linux', node='Raphy', release='3.19.0-56-generic', version='#62~14.04.1-Ubuntu SMP Fri Mar 11 11:03:15 UTC 2016', machine='x86_64', processor='x86_64')\n",
    "#script_name=rnn_test_classif_graph.py\n",
    "#end_time=2016-07-05T11:39:50.531440\n",
    "#start_time=2016-07-05T11:22:54.982510\n",
    "#elapsed_time=0:16:55.548930\n",
    "#option_output_size=2\n",
    "#option_max_epoch=600\n",
    "#option_rseed=0"
   ]
  },
  {
   "cell_type": "code",
   "execution_count": 3,
   "metadata": {
    "collapsed": true
   },
   "outputs": [],
   "source": [
    "n = 5"
   ]
  },
  {
   "cell_type": "code",
   "execution_count": 4,
   "metadata": {
    "collapsed": true
   },
   "outputs": [],
   "source": [
    "test_input_data = getData.createInputData(n)\n",
    "test_target_data = getData.createTargetData(test_input_data)"
   ]
  },
  {
   "cell_type": "code",
   "execution_count": 5,
   "metadata": {
    "collapsed": true
   },
   "outputs": [],
   "source": [
    "def calc_accuracy(n, state, session, seq_len):                                                                                                                                                       \n",
    "    total_sum = 0\n",
    "    for i in range(n):\n",
    "        state = initial_state.eval()\n",
    "        x = getData.createInputData(seq_len)\n",
    "        x = np.asarray(x).reshape(1, seq_len)\n",
    "        y = getData.createTargetData(x[0])[-1]\n",
    "        y_target = np.zeros((1,2))\n",
    "        if y == 0: y_target[0][0] = 1\n",
    "        else: y_target[0][1] = 1\n",
    "        feed_dict={initial_state: state, data:x}\n",
    "        output_ = session.run(output, feed_dict=feed_dict)\n",
    "        #print(np.argmax(y_target))\n",
    "        #print(np.argmax(output_))\n",
    "        if np.argmax(y_target) == np.argmax(output_):\n",
    "            total_sum += 1\n",
    "    return (1.0 * total_sum / n)"
   ]
  },
  {
   "cell_type": "code",
   "execution_count": 7,
   "metadata": {
    "collapsed": false
   },
   "outputs": [
    {
     "name": "stdout",
     "output_type": "stream",
     "text": [
      "[[  2.51383359e-10   1.00000000e+00]]\n",
      "1.0\n"
     ]
    }
   ],
   "source": [
    "with tf.Session() as sess:\n",
    "    new_saver = tf.train.import_meta_graph('my_model-0.meta')\n",
    "    new_saver.restore(sess, 'my_model-0')\n",
    "    # restore variables and placeholders\n",
    "    data = tf.get_collection('data')[0]\n",
    "    target = tf.get_collection('target')[0]\n",
    "    initial_state = tf.get_collection('initial_state')[0]\n",
    "    output = tf.get_collection('output')[0]\n",
    "    \n",
    "    y = test_target_data[-1]                                                                                                                        \n",
    "    y_target = np.zeros((1,2))\n",
    "    if y == 0: y_target[0][0] = 1 \n",
    "    else: y_target[0][1] = 1 \n",
    "    #feed_dict = {}\n",
    "    print(sess.run(output, feed_dict = {data: np.array(test_input_data).reshape(1,5), target: y_target}))\n",
    "    print(calc_accuracy(100, initial_state, sess, seq_len = 5))\n",
    "    "
   ]
  },
  {
   "cell_type": "code",
   "execution_count": null,
   "metadata": {
    "collapsed": true
   },
   "outputs": [],
   "source": []
  }
 ],
 "metadata": {
  "kernelspec": {
   "display_name": "Python 3",
   "language": "python",
   "name": "python3"
  },
  "language_info": {
   "codemirror_mode": {
    "name": "ipython",
    "version": 3
   },
   "file_extension": ".py",
   "mimetype": "text/x-python",
   "name": "python",
   "nbconvert_exporter": "python",
   "pygments_lexer": "ipython3",
   "version": "3.4.3"
  }
 },
 "nbformat": 4,
 "nbformat_minor": 0
}
