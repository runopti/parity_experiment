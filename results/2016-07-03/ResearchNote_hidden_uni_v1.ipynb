{
 "cells": [
  {
   "cell_type": "markdown",
   "metadata": {},
   "source": [
    "general setting: #option_batch_size=1 #option_seq_len=4 #option_max_epoch=400 #option_output_size=2 #option_data_size=1000"
   ]
  },
  {
   "cell_type": "markdown",
   "metadata": {},
   "source": [
    "## hidden_uni Experiment_1\n",
    "---"
   ]
  },
  {
   "cell_type": "markdown",
   "metadata": {},
   "source": [
    "|hidden_uni = 1| |hidden_uni = 2| |\n",
    "|---|---|---|---|\n",
    "|accuracy|loss|accuracy|loss|\n",
    "|![](hidden_uni1/experiment1-2016-07-04-01:34:29/img/acc_list.png)|![](hidden_uni1/experiment1-2016-07-04-01:34:29/img/total_loss_list.png)|![](hidden_uni1/experiment2-2016-07-04-01:37:56/img/acc_list.png)|![](hidden_uni1/experiment2-2016-07-04-01:37:56/img/total_loss_list.png)|\n",
    "\n",
    "|hidden_uni = 3| |hidden_uni = 4| |\n",
    "|---|---|---|---|\n",
    "|accuracy|loss|accuracy|loss|\n",
    "|![](hidden_uni1/experiment3-2016-07-04-01:41:26/img/acc_list.png)|![](hidden_uni1/experiment3-2016-07-04-01:41:26/img/total_loss_list.png)|![](hidden_uni1/experiment4-2016-07-04-01:44:55/img/acc_list.png)|![](hidden_uni1/experiment4-2016-07-04-01:44:55/img/total_loss_list.png)|"
   ]
  },
  {
   "cell_type": "markdown",
   "metadata": {},
   "source": [
    "## hidden_uni Experiment_2\n",
    "---"
   ]
  },
  {
   "cell_type": "markdown",
   "metadata": {},
   "source": [
    "|hidden_uni = 1| |hidden_uni = 2| |\n",
    "|---|---|---|---|\n",
    "|accuracy|loss|accuracy|loss|\n",
    "|![](hidden_uni2/experiment1-2016-07-04-01:55:17/img/acc_list.png)|![](hidden_uni2/experiment1-2016-07-04-01:55:17/img/total_loss_list.png)|![](hidden_uni2/experiment2-2016-07-04-01:58:45/img/acc_list.png)|![](hidden_uni2/experiment2-2016-07-04-01:58:45/img/total_loss_list.png)|\n",
    "\n",
    "|hidden_uni = 3| |hidden_uni = 4| |\n",
    "|---|---|---|---|\n",
    "|accuracy|loss|accuracy|loss|\n",
    "|![](hidden_uni2/experiment3-2016-07-04-02:02:14/img/acc_list.png)|![](hidden_uni2/experiment3-2016-07-04-02:02:14/img/total_loss_list.png)|![](hidden_uni2/experiment4-2016-07-04-02:05:44/img/acc_list.png)|![](hidden_uni2/experiment4-2016-07-04-02:05:44/img/total_loss_list.png)|"
   ]
  },
  {
   "cell_type": "markdown",
   "metadata": {},
   "source": [
    "## hidden_uni Experiment_3\n",
    "---"
   ]
  },
  {
   "cell_type": "markdown",
   "metadata": {},
   "source": [
    "|hidden_uni = 1| |hidden_uni = 2| |\n",
    "|---|---|---|---|\n",
    "|accuracy|loss|accuracy|loss|\n",
    "|![](hidden_uni3/experiment1-2016-07-04-02:23:02/img/acc_list.png)|![](hidden_uni3/experiment1-2016-07-04-02:23:02/img/total_loss_list.png)|![](hidden_uni3/experiment2-2016-07-04-02:26:29/img/acc_list.png)|![](hidden_uni3/experiment2-2016-07-04-02:26:29/img/total_loss_list.png)|\n",
    "\n",
    "|hidden_uni = 3| |hidden_uni = 4| |\n",
    "|---|---|---|---|\n",
    "|accuracy|loss|accuracy|loss|\n",
    "|![](hidden_uni3/experiment3-2016-07-04-02:29:59/img/acc_list.png)|![](hidden_uni3/experiment3-2016-07-04-02:29:59/img/total_loss_list.png)|![](hidden_uni3/experiment4-2016-07-04-02:33:28/img/acc_list.png)|![](hidden_uni3/experiment4-2016-07-04-02:33:28/img/total_loss_list.png)|"
   ]
  },
  {
   "cell_type": "markdown",
   "metadata": {},
   "source": [
    "Notes:\n",
    "\n",
    "The general trend is that as the number of hidden units increase, the convergence gets faster. However, as we see in Experiment 1 and Experiment 2, \"hidden_uni = 3\" achieves better loss than \"hidden_uni = 4.\"  "
   ]
  },
  {
   "cell_type": "markdown",
   "metadata": {},
   "source": [
    "## TO DO NEXT\n",
    "- hidden_uni = 5, 6, 7? "
   ]
  },
  {
   "cell_type": "code",
   "execution_count": 11,
   "metadata": {
    "collapsed": true
   },
   "outputs": [],
   "source": [
    "import tensorflow as tf\n",
    "import numpy as np\n",
    "import math"
   ]
  },
  {
   "cell_type": "code",
   "execution_count": 8,
   "metadata": {
    "collapsed": true
   },
   "outputs": [],
   "source": [
    "flag = \"lstm\""
   ]
  },
  {
   "cell_type": "code",
   "execution_count": 9,
   "metadata": {
    "collapsed": false
   },
   "outputs": [
    {
     "name": "stdout",
     "output_type": "stream",
     "text": [
      "False\n"
     ]
    }
   ],
   "source": [
    "if flag == \"basic\":\n",
    "    with tf.variable_scope(\"basic\") as vs:\n",
    "        print(vs.reuse)\n",
    "        vs.reuse_variables()\n",
    "        print(vs.reuse)\n",
    "elif flag == \"lstm\":\n",
    "    with tf.variable_scope(\"lstm\") as vs:\n",
    "        print(vs.reuse)\n",
    "else:\n",
    "    pass"
   ]
  },
  {
   "cell_type": "code",
   "execution_count": 12,
   "metadata": {
    "collapsed": true
   },
   "outputs": [],
   "source": [
    "batch_size = 1\n",
    "seq_len = 4\n",
    "output_size = 2\n",
    "hidden_size = 4"
   ]
  },
  {
   "cell_type": "code",
   "execution_count": 15,
   "metadata": {
    "collapsed": true
   },
   "outputs": [],
   "source": [
    "rnn_cell_args = \"lstm\""
   ]
  },
  {
   "cell_type": "code",
   "execution_count": 18,
   "metadata": {
    "collapsed": false
   },
   "outputs": [
    {
     "name": "stderr",
     "output_type": "stream",
     "text": [
      "WARNING:tensorflow:<tensorflow.python.ops.rnn_cell.BasicLSTMCell object at 0x115a7d518>: Using a concatenated state is slower and will soon be deprecated.  Use state_is_tuple=True.\n"
     ]
    },
    {
     "name": "stdout",
     "output_type": "stream",
     "text": [
      "False\n",
      "0\n",
      "1\n",
      "2\n",
      "3\n"
     ]
    }
   ],
   "source": [
    "############## Graph construction ################\n",
    "data = tf.placeholder(tf.float32, [batch_size, seq_len])\n",
    "target = tf.placeholder(tf.float32, [batch_size, output_size])\n",
    "\n",
    "if rnn_cell_args == \"basic\":\n",
    "    rnncell = tf.nn.rnn_cell.BasicRNNCell(hidden_size)\n",
    "elif rnn_cell_args == \"gru\":\n",
    "    rnncell = tf.nn.rnn_cell.GRUCell(hidden_size)\n",
    "elif rnn_cell_args == \"lstm\":\n",
    "    rnncell = tf.nn.rnn_cell.BasicLSTMCell(hidden_size) #-? weird bug\n",
    "else:\n",
    "    \"Please specify rnn_cell_args\"\n",
    "# initialize the state\n",
    "initial_state = state = tf.zeros([batch_size, 2*hidden_size])\n",
    "\n",
    "if rnn_cell_args == \"basic\":\n",
    "    #with tf.variable_scope(\"myrnn1\") as vss:\n",
    "     #   print(vss.reuse)\n",
    "        for i in range(seq_len):\n",
    "            if i > 0: tf.get_variable_scope().reuse_variables()\n",
    "            with tf.name_scope(\"in\") as scope:\n",
    "                weights = tf.Variable(tf.truncated_normal([hidden_size, batch_size], stddev=1.0/math.sqrt(float(hidden_size)), name=\"weights\"))\n",
    "                biases = tf.Variable(tf.truncated_normal([hidden_size], stddev=1.0/math.sqrt(float(hidden_size)), name=\"biases\"))\n",
    "                mapped = weights *  data[:,i]\n",
    "                mapped = tf.reshape(mapped, [1, hidden_size]) # 1 x hidden_size\n",
    "                mapped = mapped + biases\n",
    "                #mapped = tf.Print(mapped, [mapped], message=\"this is mapped: \")\n",
    "            cell_output, state = rnncell(mapped, state)\n",
    "            with tf.name_scope(\"out\") as scope:\n",
    "                weights = tf.Variable(tf.truncated_normal([hidden_size, output_size], stddev=1.0/math.sqrt(float(hidden_size)), name=\"weights\"))\n",
    "                biases = tf.Variable(tf.truncated_normal([output_size], stddev=1.0/math.sqrt(float(hidden_size)), name=\"biases\"))\n",
    "                output = tf.nn.softmax(tf.matmul(cell_output, weights) + biases)  # the size of output should be just [batch_size, 1] right?\n",
    "                #output = tf.reshape(output, [1,2])\n",
    "elif rnn_cell_args == \"lstm\":\n",
    "    with tf.variable_scope(\"myrnn22\") as vs:\n",
    "        print(vs.reuse)\n",
    "        for i in range(seq_len):\n",
    "            if i > 0: tf.get_variable_scope().reuse_variables()\n",
    "            print(i)\n",
    "            #if i > 0: \n",
    "            #    vs.reuse_variables()\n",
    "            \n",
    "            #assert tf.get_variable_scope().reuse == False\n",
    "            with tf.name_scope(\"in\") as scope:\n",
    "                weights = tf.Variable(tf.truncated_normal([hidden_size, batch_size], stddev=1.0/math.sqrt(float(hidden_size)), name=\"weights\"))\n",
    "                biases = tf.Variable(tf.truncated_normal([hidden_size], stddev=1.0/math.sqrt(float(hidden_size)), name=\"biases\"))\n",
    "                mapped = weights *  data[:,i]\n",
    "                mapped = tf.reshape(mapped, [1, hidden_size]) # 1 x hidden_size\n",
    "                mapped = mapped + biases\n",
    "            cell_output, state = rnncell(mapped, 2*state)\n",
    "            with tf.name_scope(\"out\") as scope:\n",
    "                weights = tf.Variable(tf.truncated_normal([hidden_size, output_size], stddev=1.0/math.sqrt(float(hidden_size)), name=\"weights\"))\n",
    "                biases = tf.Variable(tf.truncated_normal([output_size], stddev=1.0/math.sqrt(float(hidden_size)), name=\"biases\"))\n",
    "                output = tf.nn.softmax(tf.matmul(cell_output, weights) + biases)  # the size of output should be just [batch_size, 1] right?\n",
    "                #output = tf.reshape(output, [1,2])\n",
    "else:\n",
    "    with tf.variable_scope(\"foo\") as fff:\n",
    "        print(fff.reuse)\n",
    "#         for i in range(seq_len):\n",
    "#             if i > 0: tf.get_variable_scope().reuse_variables()\n",
    "#             print(i)\n",
    "#             #if i > 0: \n",
    "#             #    vs.reuse_variables()\n",
    "            \n",
    "#             #assert tf.get_variable_scope().reuse == False\n",
    "#             with tf.name_scope(\"in\") as scope:\n",
    "#                 weights = tf.Variable(tf.truncated_normal([hidden_size, batch_size], stddev=1.0/math.sqrt(float(hidden_size)), name=\"weights\"))\n",
    "#                 biases = tf.Variable(tf.truncated_normal([hidden_size], stddev=1.0/math.sqrt(float(hidden_size)), name=\"biases\"))\n",
    "#                 mapped = weights *  data[:,i]\n",
    "#                 mapped = tf.reshape(mapped, [1, hidden_size]) # 1 x hidden_size\n",
    "#                 mapped = mapped + biases\n",
    "#             cell_output, state = rnncell(mapped, 2*state)\n",
    "#             with tf.name_scope(\"out\") as scope:\n",
    "#                 weights = tf.Variable(tf.truncated_normal([hidden_size, output_size], stddev=1.0/math.sqrt(float(hidden_size)), name=\"weights\"))\n",
    "#                 biases = tf.Variable(tf.truncated_normal([output_size], stddev=1.0/math.sqrt(float(hidden_size)), name=\"biases\"))\n",
    "#                 output = tf.nn.softmax(tf.matmul(cell_output, weights) + biases)  # the size of output should be just [batch_size, 1] right?\n",
    "#                 #output = tf.reshape(output, [1,2])"
   ]
  },
  {
   "cell_type": "code",
   "execution_count": null,
   "metadata": {
    "collapsed": true
   },
   "outputs": [],
   "source": []
  }
 ],
 "metadata": {
  "kernelspec": {
   "display_name": "Python 3",
   "language": "python",
   "name": "python3"
  },
  "language_info": {
   "codemirror_mode": {
    "name": "ipython",
    "version": 3
   },
   "file_extension": ".py",
   "mimetype": "text/x-python",
   "name": "python",
   "nbconvert_exporter": "python",
   "pygments_lexer": "ipython3",
   "version": "3.4.3"
  }
 },
 "nbformat": 4,
 "nbformat_minor": 0
}
