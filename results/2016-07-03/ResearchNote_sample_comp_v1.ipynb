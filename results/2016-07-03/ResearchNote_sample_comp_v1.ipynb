{
 "cells": [
  {
   "cell_type": "markdown",
   "metadata": {},
   "source": [
    "#option_batch_size=1 #option_data_size=1000 #option_hidden_size=3 #option_output_size=2 #option_seq_len=5 #option_max_epoch=600"
   ]
  },
  {
   "cell_type": "markdown",
   "metadata": {},
   "source": [
    "## sample_comp Experiment_1\n",
    "---"
   ]
  },
  {
   "cell_type": "markdown",
   "metadata": {},
   "source": [
    "|num_samples = 1000| |num_samples = 2000| |\n",
    "|---|---|---|---|\n",
    "|accuracy|loss|accuracy|loss|\n",
    "|![](sample_comp1/experiment1-2016-07-04-03:59:30/img/acc_list.png)|![](sample_comp1/experiment1-2016-07-04-03:59:30/img/total_loss_list.png)|![](sample_comp1/experiment2-2016-07-04-04:04:18/img/acc_list.png)|![](sample_comp1/experiment2-2016-07-04-04:04:18/img/total_loss_list.png)|\n",
    "\n",
    "|num_samples = 4000| |num_samples = 8000| |\n",
    "|---|---|---|---|\n",
    "|accuracy|loss|accuracy|loss|\n",
    "|![](sample_comp1/experiment3-2016-07-04-04:12:54/img/acc_list.png)|![](sample_comp1/experiment3-2016-07-04-04:12:54/img/total_loss_list.png)|![](sample_comp1/experiment4-2016-07-04-04:29:30/img/acc_list.png)|![](sample_comp1/experiment4-2016-07-04-04:29:30/img/total_loss_list.png)|"
   ]
  },
  {
   "cell_type": "markdown",
   "metadata": {},
   "source": [
    "Notes:\n",
    "- num_samples = 1000 : \n",
    "- num_samples = 2000 : looks like it's still going down\n",
    "- num_samples = 4000 : learning rate is too big toward the end\n",
    "- num_samples = 8000 : learning rate is too big toward the end"
   ]
  },
  {
   "cell_type": "markdown",
   "metadata": {
    "collapsed": true
   },
   "source": [
    "what I need to understand:\n",
    "\n",
    "- embedding = tf.get_variable(\"embedding\", [vocab_size, size])\n",
    "\n",
    "- inputs = tf.nn.embedding_lookup(embedding, self._input_data)\n",
    "\n",
    "- loss = tf.nn.seq2seq.sequence_loss_by_example([logits], [tf.reshape(self._targets, [-1])], [tf.ones([batch_size * num_steps])])\n",
    "\n",
    "- grads, _ = tf.clip_by_global_norm(tf.gradients(cost, tvars), config.max_grad_norm)"
   ]
  },
  {
   "cell_type": "markdown",
   "metadata": {},
   "source": [
    "## Learning Rate divided by 10 after 180 epoch\n",
    "---\n",
    "\n"
   ]
  },
  {
   "cell_type": "markdown",
   "metadata": {},
   "source": [
    "|num_samples = 4000| |num_samples = 4000| |\n",
    "|---|---|---|---|\n",
    "|accuracy|loss|accuracy|loss|\n",
    "|![](sample_comp1/experiment3-2016-07-04-04:12:54/img/acc_list.png)|![](sample_comp1/experiment3-2016-07-04-04:12:54/img/total_loss_list.png)|![](sample_comp1/lr_schedule_test-2016-07-05-11:22:54/img/acc_list.png)|![](sample_comp1/lr_schedule_test-2016-07-05-11:22:54/img/total_loss_list.png)| "
   ]
  },
  {
   "cell_type": "markdown",
   "metadata": {
    "collapsed": true
   },
   "source": [
    "## IMPORTANT\n",
    "it seems like when the image path are somehow set to sample_comp1/ as a default in this notebook. "
   ]
  },
  {
   "cell_type": "code",
   "execution_count": null,
   "metadata": {
    "collapsed": true
   },
   "outputs": [],
   "source": []
  }
 ],
 "metadata": {
  "kernelspec": {
   "display_name": "Python 2",
   "language": "python",
   "name": "python2"
  },
  "language_info": {
   "codemirror_mode": {
    "name": "ipython",
    "version": 2
   },
   "file_extension": ".py",
   "mimetype": "text/x-python",
   "name": "python",
   "nbconvert_exporter": "python",
   "pygments_lexer": "ipython2",
   "version": "2.7.10"
  }
 },
 "nbformat": 4,
 "nbformat_minor": 0
}
