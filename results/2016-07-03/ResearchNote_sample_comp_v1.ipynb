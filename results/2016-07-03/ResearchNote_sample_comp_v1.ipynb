{
 "cells": [
  {
   "cell_type": "markdown",
   "metadata": {},
   "source": [
    "#option_batch_size=1 #option_data_size=1000 #option_hidden_size=3 #option_output_size=2 #option_seq_len=5 #option_max_epoch=600"
   ]
  },
  {
   "cell_type": "markdown",
   "metadata": {},
   "source": [
    "## sample_comp Experiment_1\n",
    "---"
   ]
  },
  {
   "cell_type": "markdown",
   "metadata": {},
   "source": [
    "|num_samples = 1000| |num_samples = 2000| |\n",
    "|---|---|---|---|\n",
    "|accuracy|loss|accuracy|loss|\n",
    "|![](sample_comp1/experiment1-2016-07-04-03:59:30/img/acc_list.png)|![](sample_comp1/experiment1-2016-07-04-03:59:30/img/total_loss_list.png)|![](sample_comp1/experiment2-2016-07-04-04:04:18/img/acc_list.png)|![](sample_comp1/experiment2-2016-07-04-04:04:18/img/total_loss_list.png)|\n",
    "\n",
    "|num_samples = 4000| |num_samples = 8000| |\n",
    "|---|---|---|---|\n",
    "|accuracy|loss|accuracy|loss|\n",
    "|![](sample_comp1/experiment3-2016-07-04-04:12:54/img/acc_list.png)|![](sample_comp1/experiment3-2016-07-04-04:12:54/img/total_loss_list.png)|![](sample_comp1/experiment4-2016-07-04-04:29:30/img/acc_list.png)|![](sample_comp1/experiment4-2016-07-04-04:29:30/img/total_loss_list.png)|"
   ]
  },
  {
   "cell_type": "markdown",
   "metadata": {},
   "source": [
    "Notes:\n",
    "- num_samples = 1000 : \n",
    "- num_samples = 2000 : looks like it's still going down\n",
    "- num_samples = 4000 : learning rate is too big toward the end\n",
    "- num_samples = 8000 : learning rate is too big toward the end"
   ]
  },
  {
   "cell_type": "code",
   "execution_count": null,
   "metadata": {
    "collapsed": true
   },
   "outputs": [],
   "source": []
  }
 ],
 "metadata": {
  "kernelspec": {
   "display_name": "Python 3",
   "language": "python",
   "name": "python3"
  },
  "language_info": {
   "codemirror_mode": {
    "name": "ipython",
    "version": 3
   },
   "file_extension": ".py",
   "mimetype": "text/x-python",
   "name": "python",
   "nbconvert_exporter": "python",
   "pygments_lexer": "ipython3",
   "version": "3.4.3"
  }
 },
 "nbformat": 4,
 "nbformat_minor": 0
}
