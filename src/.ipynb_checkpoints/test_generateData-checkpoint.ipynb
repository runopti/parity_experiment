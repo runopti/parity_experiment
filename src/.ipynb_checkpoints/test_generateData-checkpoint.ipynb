{
 "cells": [
  {
   "cell_type": "code",
   "execution_count": 73,
   "metadata": {
    "collapsed": true
   },
   "outputs": [],
   "source": [
    "import numpy as np\n",
    "import math\n",
    "\n",
    "np.random.seed(0)\n",
    "\n",
    "def createTargetData(digit_list):\n",
    "    \"\"\" generate len(digit_list) vector, whose i th element is the\n",
    "    corresponding parity upto the ith element of the input.\"\"\"\n",
    "    sum_ = 0 \n",
    "    parity_list = []\n",
    "\n",
    "    # check the first digit\n",
    "    sum_ = digit_list[0]\n",
    "    if sum_ % 2 == 0:\n",
    "        parity_list.append(0)\n",
    "    else:\n",
    "        parity_list.append(1)\n",
    "\n",
    "    # main for loop\n",
    "    for i in range(len(digit_list)):\n",
    "        if i == 0:  \n",
    "            continue\n",
    "        else:\n",
    "            sum_ += digit_list[i]\n",
    "            if sum_ % 2 == 0:\n",
    "                parity_list.append(0)\n",
    "            else:\n",
    "                parity_list.append(1)\n",
    "\n",
    "    return parity_list\n",
    "                                                                                                                                                                                   \n",
    "def createInputData(n):\n",
    "    \"\"\" generate a list of digits 0/1\"\"\"\n",
    "    digit_list = []\n",
    "    for i in range(n):\n",
    "        digit_list.append(np.random.randint(2))\n",
    "    return digit_list\n",
    "\n",
    "def createRandomData(n, n_test, seq_len):\n",
    "    \"\"\" uniformly sample a data point from the 2^n space. \"\"\"\n",
    "    data_input_list = []\n",
    "    data_test_list = []\n",
    "    store_int_list = []\n",
    "    for _ in range(n):\n",
    "        random_int = np.random.randint(math.pow(2,seq_len)) # sample a number from [1, 2^seq_len]\n",
    "        store_int_list.append(random_int)\n",
    "        data_input_list.append(np.array(list(bin(random_int)[2:].zfill(seq_len))).astype(float)) # convert this into binary digit\n",
    "    for _ in range(n_test):\n",
    "        random_int = store_int_list[0] # just to pass the first test in while\n",
    "        while random_int in store_int_list:\n",
    "            random_int = np.random.randint(math.pow(2,seq_len))\n",
    "        data_test_list.append(np.array(list(bin(random_int)[2:].zfill(seq_len))).astype(float))\n",
    "        \n",
    "    return data_input_list, data_test_list"
   ]
  },
  {
   "cell_type": "markdown",
   "metadata": {},
   "source": [
    "### Reference\n",
    "binary: http://stackoverflow.com/questions/10411085/converting-integer-to-binary-in-python\n",
    "set: http://stackoverflow.com/questions/14667578/check-if-a-number-already-exist-in-a-list-in-python"
   ]
  },
  {
   "cell_type": "code",
   "execution_count": 72,
   "metadata": {
    "collapsed": false
   },
   "outputs": [
    {
     "name": "stdout",
     "output_type": "stream",
     "text": [
      "oops\n",
      "oops\n",
      "oops\n",
      "oops\n",
      "oops\n",
      "[array([ 1.,  0.]), array([ 0.,  0.])]\n",
      "[array([ 1.,  1.]), array([ 1.,  1.])]\n"
     ]
    }
   ],
   "source": [
    "inputdata,testdata = createRandomData(2, 2, 2)\n",
    "print(inputdata)\n",
    "print(testdata)"
   ]
  },
  {
   "cell_type": "code",
   "execution_count": 35,
   "metadata": {
    "collapsed": true
   },
   "outputs": [],
   "source": [
    "import math\n",
    "seq_len = 20\n",
    "n = 4000\n",
    "data_input_list = []"
   ]
  },
  {
   "cell_type": "code",
   "execution_count": 36,
   "metadata": {
    "collapsed": true
   },
   "outputs": [],
   "source": [
    "for _ in range(n):\n",
    "    random_int = np.random.randint(math.pow(2,seq_len)) # sample a number from [1, 2^seq_len]\n",
    "    data_input_list.append(np.array(list(bin(random_int)[2:].zfill(seq_len))).astype(float)) # convert this into binary digit"
   ]
  },
  {
   "cell_type": "code",
   "execution_count": 47,
   "metadata": {
    "collapsed": false
   },
   "outputs": [
    {
     "name": "stdout",
     "output_type": "stream",
     "text": [
      "[ 0.  0.  0.  1.  0.  0.  1.  1.  1.  0.  0.  1.  0.  0.  1.  0.  0.  0.\n",
      "  1.  1.]\n",
      "[ 0.  0.  0.  1.  1.  1.  0.  1.  0.  0.  0.  1.  1.  1.  0.  0.  0.  0.\n",
      "  1.  0.]\n"
     ]
    }
   ],
   "source": [
    "print(data_input_list[1])\n",
    "print(np.float32(createTargetData(data_input_list[1])))"
   ]
  },
  {
   "cell_type": "code",
   "execution_count": 10,
   "metadata": {
    "collapsed": false
   },
   "outputs": [
    {
     "data": {
      "text/plain": [
       "array([435829, 117952, 963395, 152315, 882371])"
      ]
     },
     "execution_count": 10,
     "metadata": {},
     "output_type": "execute_result"
    }
   ],
   "source": [
    "np.random.randint(math.pow(2,20), size=5)"
   ]
  },
  {
   "cell_type": "code",
   "execution_count": 13,
   "metadata": {
    "collapsed": false
   },
   "outputs": [
    {
     "data": {
      "text/plain": [
       "'01101010011001110101'"
      ]
     },
     "execution_count": 13,
     "metadata": {},
     "output_type": "execute_result"
    }
   ],
   "source": [
    "'{0:020b}'.format(435829) "
   ]
  },
  {
   "cell_type": "code",
   "execution_count": 34,
   "metadata": {
    "collapsed": false
   },
   "outputs": [
    {
     "data": {
      "text/plain": [
       "array([ 0.,  0.,  0.,  0.,  0.,  0.,  0.,  0.,  0.,  0.,  0.,  0.,  0.,\n",
       "        0.,  0.,  0.,  0.,  1.,  1.,  0.])"
      ]
     },
     "execution_count": 34,
     "metadata": {},
     "output_type": "execute_result"
    }
   ],
   "source": [
    "np.array(list(bin(6)[2:].zfill(seq_len))).astype(float)"
   ]
  },
  {
   "cell_type": "code",
   "execution_count": 14,
   "metadata": {
    "collapsed": false
   },
   "outputs": [
    {
     "data": {
      "text/plain": [
       "1048576.0"
      ]
     },
     "execution_count": 14,
     "metadata": {},
     "output_type": "execute_result"
    }
   ],
   "source": [
    "math.pow(2,20)"
   ]
  },
  {
   "cell_type": "code",
   "execution_count": 30,
   "metadata": {
    "collapsed": true
   },
   "outputs": [],
   "source": [
    "import reader\n",
    "input_data = createInputData(40)\n",
    "target_data = createTargetData(input_data)\n",
    "batch_size = 1"
   ]
  },
  {
   "cell_type": "code",
   "execution_count": 31,
   "metadata": {
    "collapsed": false
   },
   "outputs": [
    {
     "name": "stdout",
     "output_type": "stream",
     "text": [
      "[[ 1.  0.  1.  0.  1.  1.  1.  1.  0.  1.  0.  0.  1.  1.  0.  1.  0.  1.\n",
      "   0.  0.]]\n",
      "[[ 1.  1.  0.  0.  1.  0.  1.  0.  0.  1.  1.  1.  0.  1.  1.  0.  0.  1.\n",
      "   1.  1.]]\n"
     ]
    }
   ],
   "source": [
    "for step, (x,y) in enumerate(reader.parity_iterator(input_data,target_data,batch_size, seq_len)):\n",
    "    print(x)\n",
    "    print(y)"
   ]
  },
  {
   "cell_type": "code",
   "execution_count": null,
   "metadata": {
    "collapsed": true
   },
   "outputs": [],
   "source": []
  }
 ],
 "metadata": {
  "kernelspec": {
   "display_name": "Python 3",
   "language": "python",
   "name": "python3"
  },
  "language_info": {
   "codemirror_mode": {
    "name": "ipython",
    "version": 3
   },
   "file_extension": ".py",
   "mimetype": "text/x-python",
   "name": "python",
   "nbconvert_exporter": "python",
   "pygments_lexer": "ipython3",
   "version": "3.4.3"
  }
 },
 "nbformat": 4,
 "nbformat_minor": 0
}
